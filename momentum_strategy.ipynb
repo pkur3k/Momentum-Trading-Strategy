{
 "cells": [
  {
   "cell_type": "code",
   "execution_count": 2,
   "id": "19d66763-578a-40c8-8073-dda9a373f116",
   "metadata": {
    "tags": []
   },
   "outputs": [],
   "source": [
    "import sys\n",
    "import pandas as pd\n",
    "import yfinance as yf\n",
    "import numpy as np"
   ]
  },
  {
   "cell_type": "code",
   "execution_count": null,
   "id": "93e89ee6-a76c-476e-89fe-979edad381ea",
   "metadata": {
    "tags": []
   },
   "outputs": [
    {
     "name": "stdout",
     "output_type": "stream",
     "text": [
      "[**********************86%****************       ]  434 of 503 completed"
     ]
    }
   ],
   "source": [
    "def get_tickers():\n",
    "    table = pd.read_html('https://en.wikipedia.org/wiki/List_of_S%26P_500_companies')\n",
    "    tickers_df = table[0]\n",
    "    tickers_list = tickers_df['Symbol'].tolist()\n",
    "    return tickers_list\n",
    "\n",
    "\n",
    "tickers = get_tickers()\n",
    "df = yf.download(tickers, start='2023-01-01')\n",
    "close_price = df['Close Adj']\n",
    "print(close_price)"
   ]
  },
  {
   "cell_type": "code",
   "execution_count": null,
   "id": "f9952d50-7c54-4c13-abac-af8e0ca949f2",
   "metadata": {},
   "outputs": [],
   "source": []
  }
 ],
 "metadata": {
  "kernelspec": {
   "display_name": "Python 3 (ipykernel)",
   "language": "python",
   "name": "python3"
  },
  "language_info": {
   "codemirror_mode": {
    "name": "ipython",
    "version": 3
   },
   "file_extension": ".py",
   "mimetype": "text/x-python",
   "name": "python",
   "nbconvert_exporter": "python",
   "pygments_lexer": "ipython3",
   "version": "3.8.16"
  }
 },
 "nbformat": 4,
 "nbformat_minor": 5
}
